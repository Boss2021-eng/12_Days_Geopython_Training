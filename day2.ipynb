{
 "cells": [
  {
   "cell_type": "markdown",
   "metadata": {},
   "source": [
    "### Defining a coordinate reference system"
   ]
  },
  {
   "cell_type": "code",
   "execution_count": 3,
   "metadata": {},
   "outputs": [],
   "source": [
    "import fiona\n",
    "import shapely\n",
    "import pyproj"
   ]
  },
  {
   "cell_type": "code",
   "execution_count": 4,
   "metadata": {},
   "outputs": [],
   "source": [
    "from pyproj import CRS"
   ]
  },
  {
   "cell_type": "code",
   "execution_count": 6,
   "metadata": {},
   "outputs": [
    {
     "data": {
      "text/plain": [
       "<Projected CRS: EPSG:32631>\n",
       "Name: WGS 84 / UTM zone 31N\n",
       "Axis Info [cartesian]:\n",
       "- E[east]: Easting (metre)\n",
       "- N[north]: Northing (metre)\n",
       "Area of Use:\n",
       "- name: Between 0°E and 6°E, northern hemisphere between equator and 84°N, onshore and offshore. Algeria. Andorra. Belgium. Benin. Burkina Faso. Denmark - North Sea. France. Germany - North Sea. Ghana. Luxembourg. Mali. Netherlands. Niger. Nigeria. Norway. Spain. Togo. United Kingdom (UK) - North Sea.\n",
       "- bounds: (0.0, 0.0, 6.0, 84.0)\n",
       "Coordinate Operation:\n",
       "- name: UTM zone 31N\n",
       "- method: Transverse Mercator\n",
       "Datum: World Geodetic System 1984 ensemble\n",
       "- Ellipsoid: WGS 84\n",
       "- Prime Meridian: Greenwich"
      ]
     },
     "execution_count": 6,
     "metadata": {},
     "output_type": "execute_result"
    }
   ],
   "source": [
    "wgs84 = CRS.from_epsg(4326)\n",
    "wgs84\n",
    "utm31n = CRS.from_epsg(32631)\n",
    "utm31n"
   ]
  },
  {
   "cell_type": "markdown",
   "metadata": {},
   "source": [
    "### Viewing CRS Details"
   ]
  },
  {
   "cell_type": "code",
   "execution_count": 7,
   "metadata": {},
   "outputs": [
    {
     "data": {
      "text/plain": [
       "32631"
      ]
     },
     "execution_count": 7,
     "metadata": {},
     "output_type": "execute_result"
    }
   ],
   "source": [
    "utm31n.to_epsg()"
   ]
  },
  {
   "cell_type": "code",
   "execution_count": 8,
   "metadata": {},
   "outputs": [
    {
     "name": "stdout",
     "output_type": "stream",
     "text": [
      "PROJCRS[\"WGS 84 / UTM zone 31N\",\n",
      "    BASEGEOGCRS[\"WGS 84\",\n",
      "        ENSEMBLE[\"World Geodetic System 1984 ensemble\",\n",
      "            MEMBER[\"World Geodetic System 1984 (Transit)\"],\n",
      "            MEMBER[\"World Geodetic System 1984 (G730)\"],\n",
      "            MEMBER[\"World Geodetic System 1984 (G873)\"],\n",
      "            MEMBER[\"World Geodetic System 1984 (G1150)\"],\n",
      "            MEMBER[\"World Geodetic System 1984 (G1674)\"],\n",
      "            MEMBER[\"World Geodetic System 1984 (G1762)\"],\n",
      "            MEMBER[\"World Geodetic System 1984 (G2139)\"],\n",
      "            ELLIPSOID[\"WGS 84\",6378137,298.257223563,\n",
      "                LENGTHUNIT[\"metre\",1]],\n",
      "            ENSEMBLEACCURACY[2.0]],\n",
      "        PRIMEM[\"Greenwich\",0,\n",
      "            ANGLEUNIT[\"degree\",0.0174532925199433]],\n",
      "        ID[\"EPSG\",4326]],\n",
      "    CONVERSION[\"UTM zone 31N\",\n",
      "        METHOD[\"Transverse Mercator\",\n",
      "            ID[\"EPSG\",9807]],\n",
      "        PARAMETER[\"Latitude of natural origin\",0,\n",
      "            ANGLEUNIT[\"degree\",0.0174532925199433],\n",
      "            ID[\"EPSG\",8801]],\n",
      "        PARAMETER[\"Longitude of natural origin\",3,\n",
      "            ANGLEUNIT[\"degree\",0.0174532925199433],\n",
      "            ID[\"EPSG\",8802]],\n",
      "        PARAMETER[\"Scale factor at natural origin\",0.9996,\n",
      "            SCALEUNIT[\"unity\",1],\n",
      "            ID[\"EPSG\",8805]],\n",
      "        PARAMETER[\"False easting\",500000,\n",
      "            LENGTHUNIT[\"metre\",1],\n",
      "            ID[\"EPSG\",8806]],\n",
      "        PARAMETER[\"False northing\",0,\n",
      "            LENGTHUNIT[\"metre\",1],\n",
      "            ID[\"EPSG\",8807]]],\n",
      "    CS[Cartesian,2],\n",
      "        AXIS[\"(E)\",east,\n",
      "            ORDER[1],\n",
      "            LENGTHUNIT[\"metre\",1]],\n",
      "        AXIS[\"(N)\",north,\n",
      "            ORDER[2],\n",
      "            LENGTHUNIT[\"metre\",1]],\n",
      "    USAGE[\n",
      "        SCOPE[\"Navigation and medium accuracy spatial referencing.\"],\n",
      "        AREA[\"Between 0°E and 6°E, northern hemisphere between equator and 84°N, onshore and offshore. Algeria. Andorra. Belgium. Benin. Burkina Faso. Denmark - North Sea. France. Germany - North Sea. Ghana. Luxembourg. Mali. Netherlands. Niger. Nigeria. Norway. Spain. Togo. United Kingdom (UK) - North Sea.\"],\n",
      "        BBOX[0,0,84,6]],\n",
      "    ID[\"EPSG\",32631]]\n"
     ]
    }
   ],
   "source": [
    "print(utm31n.to_wkt(pretty=True))"
   ]
  },
  {
   "cell_type": "markdown",
   "metadata": {},
   "source": [
    "### Performing a Coordinate Transformation"
   ]
  },
  {
   "cell_type": "code",
   "execution_count": 9,
   "metadata": {},
   "outputs": [
    {
     "name": "stdout",
     "output_type": "stream",
     "text": [
      "6.506698063213731 -1.4065933227539062\n"
     ]
    }
   ],
   "source": [
    "from pyproj import Transformer\n",
    "\n",
    "# Define the transformer\n",
    "# converting from  UTM ZONE 31N (32630) to WGS84 (4326) \n",
    "points_from = (676194.0223456646,719494.2903138554)\n",
    "transformer = Transformer.from_crs(32630, 4326)\n",
    "\n",
    "# Transform\n",
    "x,y = transformer.transform(points_from[0], points_from[1])\n",
    "print(x,y)"
   ]
  },
  {
   "cell_type": "markdown",
   "metadata": {},
   "source": [
    "### Projecting with Shapely and Pyproj"
   ]
  },
  {
   "cell_type": "code",
   "execution_count": 10,
   "metadata": {},
   "outputs": [],
   "source": [
    "from shapely.geometry import Point"
   ]
  },
  {
   "cell_type": "code",
   "execution_count": 15,
   "metadata": {},
   "outputs": [
    {
     "name": "stdout",
     "output_type": "stream",
     "text": [
      "(676194.0223456646, 719494.2903138553)\n"
     ]
    }
   ],
   "source": [
    "point = Point(6.506698063213731,-1.4065933227539062)\n",
    "\n",
    "# Define the crs\n",
    "transformer = Transformer.from_crs(4326, 32630)\n",
    "\n",
    "# Transform the points\n",
    "utm_point = transformer.transform(point.x, point.y)\n",
    "print(utm_point)"
   ]
  },
  {
   "cell_type": "markdown",
   "metadata": {},
   "source": [
    "### Defining custom CRS"
   ]
  },
  {
   "cell_type": "code",
   "execution_count": 16,
   "metadata": {},
   "outputs": [
    {
     "data": {
      "text/plain": [
       "<Geographic 2D CRS: {\"$schema\": \"https://proj.org/schemas/v0.2/projjso ...>\n",
       "Name: my_crs\n",
       "Axis Info [ellipsoidal]:\n",
       "- lon[east]: Longitude (degree)\n",
       "- lat[north]: Latitude (degree)\n",
       "Area of Use:\n",
       "- undefined\n",
       "Datum: World Geodetic System 1984 ensemble\n",
       "- Ellipsoid: WGS 84\n",
       "- Prime Meridian: Greenwich"
      ]
     },
     "execution_count": 16,
     "metadata": {},
     "output_type": "execute_result"
    }
   ],
   "source": [
    "# Geographic crs\n",
    "\n",
    "from pyproj.crs import GeographicCRS\n",
    "\n",
    "geo_crs = GeographicCRS(\n",
    "    name=\"my_crs\",\n",
    "    datum= \"urn:ogc:def:ensemble:EPSG::6326\"\n",
    ")\n",
    "\n",
    "geo_crs"
   ]
  },
  {
   "cell_type": "code",
   "execution_count": 24,
   "metadata": {},
   "outputs": [
    {
     "data": {
      "text/plain": [
       "<Projected CRS: {\"$schema\": \"https://proj.org/schemas/v0.2/projjso ...>\n",
       "Name: undefined\n",
       "Axis Info [cartesian]:\n",
       "- E[east]: Easting (metre)\n",
       "- N[north]: Northing (metre)\n",
       "Area of Use:\n",
       "- undefined\n",
       "Coordinate Operation:\n",
       "- name: UTM zone 14N\n",
       "- method: Transverse Mercator\n",
       "Datum: my fantastic Datum\n",
       "- Ellipsoid: my fantastic Ellipsoid\n",
       "- Prime Meridian: Greenwich"
      ]
     },
     "execution_count": 24,
     "metadata": {},
     "output_type": "execute_result"
    }
   ],
   "source": [
    "# custom Projected crs\n",
    "\n",
    "from pyproj.crs import GeographicCRS, ProjectedCRS\n",
    "from pyproj.crs.coordinate_operation import UTMConversion\n",
    "from pyproj.crs.datum import CustomDatum, CustomEllipsoid\n",
    "\n",
    "custom_Ellipsoid = CustomEllipsoid(\n",
    "    name=\"my fantastic Ellipsoid\",\n",
    "    semi_major_axis=6378137,\n",
    "    semi_minor_axis=6356752)\n",
    "custom_Datum  = CustomDatum(\n",
    "    name='my fantastic Datum',\n",
    "    ellipsoid=custom_Ellipsoid, \n",
    "    prime_meridian=\"Greenwich\")\n",
    "proj_crs = ProjectedCRS(\n",
    "    conversion=UTMConversion(14), geodetic_crs=GeographicCRS(datum=custom_Datum)\n",
    ")\n",
    "#crs_wkt = proj_crs.to_wkt()\n",
    "#crs_wkt\n",
    "proj_crs"
   ]
  },
  {
   "cell_type": "code",
   "execution_count": null,
   "metadata": {},
   "outputs": [],
   "source": []
  }
 ],
 "metadata": {
  "kernelspec": {
   "display_name": "geo_python",
   "language": "python",
   "name": "python3"
  },
  "language_info": {
   "codemirror_mode": {
    "name": "ipython",
    "version": 3
   },
   "file_extension": ".py",
   "mimetype": "text/x-python",
   "name": "python",
   "nbconvert_exporter": "python",
   "pygments_lexer": "ipython3",
   "version": "3.12.7"
  }
 },
 "nbformat": 4,
 "nbformat_minor": 2
}
