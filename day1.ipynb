{
 "cells": [
  {
   "cell_type": "markdown",
   "metadata": {},
   "source": [
    "### Representing Points"
   ]
  },
  {
   "cell_type": "code",
   "execution_count": 1,
   "metadata": {},
   "outputs": [
    {
     "name": "stdout",
     "output_type": "stream",
     "text": [
      "Hello World!\n"
     ]
    }
   ],
   "source": [
    "print(\"Hello World!\")"
   ]
  },
  {
   "cell_type": "code",
   "execution_count": 2,
   "metadata": {},
   "outputs": [
    {
     "name": "stdout",
     "output_type": "stream",
     "text": [
      "POINT (1 2)\n",
      "<class 'shapely.geometry.point.Point'>\n"
     ]
    }
   ],
   "source": [
    "from shapely.geometry import Point\n",
    "point = Point(1.0,2.0)\n",
    "print(point)\n",
    "print(type(point))"
   ]
  },
  {
   "cell_type": "markdown",
   "metadata": {},
   "source": [
    "### Representing Lines"
   ]
  },
  {
   "cell_type": "code",
   "execution_count": 3,
   "metadata": {},
   "outputs": [
    {
     "name": "stdout",
     "output_type": "stream",
     "text": [
      "LINESTRING (0 0, 1 1, 2 2)\n"
     ]
    }
   ],
   "source": [
    "from shapely.geometry import LineString\n",
    "points = [\n",
    "    (0,0),\n",
    "    (1,1),\n",
    "    (2,2)\n",
    "]\n",
    "line = LineString(points)\n",
    "print(line)"
   ]
  },
  {
   "cell_type": "markdown",
   "metadata": {},
   "source": [
    "### Representing Polygon"
   ]
  },
  {
   "cell_type": "code",
   "execution_count": 4,
   "metadata": {},
   "outputs": [
    {
     "name": "stdout",
     "output_type": "stream",
     "text": [
      "POLYGON ((0 0, 1 1, 2 2, 0 0))\n"
     ]
    }
   ],
   "source": [
    "from shapely.geometry import Polygon\n",
    "points = [\n",
    "    (0,0),\n",
    "    (1,1),\n",
    "    (2,2)\n",
    "]\n",
    "poly = Polygon(points)\n",
    "print(poly)"
   ]
  },
  {
   "cell_type": "markdown",
   "metadata": {},
   "source": [
    "### Writing a shapefile with Fiona"
   ]
  },
  {
   "cell_type": "code",
   "execution_count": 5,
   "metadata": {},
   "outputs": [],
   "source": [
    "import fiona\n",
    "from shapely.geometry import Point, mapping"
   ]
  },
  {
   "cell_type": "code",
   "execution_count": 12,
   "metadata": {},
   "outputs": [],
   "source": [
    "schema = {\n",
    "    'geometry': 'Point',\n",
    "    'properties': {\n",
    "        'id': 'int',\n",
    "        'description': 'str'\n",
    "    }\n",
    "}\n",
    "points = [(1,1,1), (2,2,2), (3,3,3), (4,4,4)]\n",
    "path = './data/point.shp'\n",
    "\n",
    "with fiona.open(path, 'w', driver='ESRI Shapefile', schema=schema) as shp:\n",
    "    for x, y, point_id in points:\n",
    "        shp.write({\n",
    "        'geometry': mapping(Point(x,y)),\n",
    "        'properties': {\n",
    "        'id': point_id,\n",
    "        'description': f'some description for {point_id}'}\n",
    "    })\n",
    "\n",
    "\n",
    "    "
   ]
  },
  {
   "cell_type": "markdown",
   "metadata": {},
   "source": [
    "### Writing a line with Fiona"
   ]
  },
  {
   "cell_type": "code",
   "execution_count": 13,
   "metadata": {},
   "outputs": [],
   "source": [
    "import fiona\n",
    "from shapely.geometry import mapping, LineString"
   ]
  },
  {
   "cell_type": "code",
   "execution_count": 15,
   "metadata": {},
   "outputs": [],
   "source": [
    "schema = {\n",
    "    'geometry':'LineString',\n",
    "    'properties':\n",
    "    {\n",
    "    'id': 'int'}\n",
    "}\n",
    "\n",
    "points = [(1,1,1), (2,2,2), (3,3,3), (4,4,4)]\n",
    "path = './data/line.shp'\n",
    "\n",
    "with fiona.open(path, 'w', driver='ESRI Shapefile', schema=schema) as src:\n",
    "    line = LineString(points)\n",
    "    src.write({\n",
    "        'geometry': mapping(line),\n",
    "        'properties': {\n",
    "            'id': 1\n",
    "        }\n",
    "    })"
   ]
  },
  {
   "cell_type": "markdown",
   "metadata": {},
   "source": [
    "### Common Geometry Operations"
   ]
  },
  {
   "cell_type": "markdown",
   "metadata": {},
   "source": [
    "<h5> Distance Calculations </h5>"
   ]
  },
  {
   "cell_type": "code",
   "execution_count": 18,
   "metadata": {},
   "outputs": [
    {
     "name": "stdout",
     "output_type": "stream",
     "text": [
      "1.4142135623730951\n"
     ]
    }
   ],
   "source": [
    "point1 = Point(1.0, 1.0)\n",
    "point2 = Point(2.0, 2.0)\n",
    "\n",
    "distance = point1.distance(point2)\n",
    "print(distance)"
   ]
  },
  {
   "cell_type": "markdown",
   "metadata": {},
   "source": [
    "### Length"
   ]
  },
  {
   "cell_type": "code",
   "execution_count": 20,
   "metadata": {},
   "outputs": [
    {
     "name": "stdout",
     "output_type": "stream",
     "text": [
      "4.242640687119286\n"
     ]
    }
   ],
   "source": [
    "points = [(1,1,1), (2,2,2), (3,3,3), (4,4,4)]\n",
    "line = LineString(points)\n",
    "\n",
    "print(line.length)"
   ]
  },
  {
   "cell_type": "markdown",
   "metadata": {},
   "source": [
    "### Polygon"
   ]
  },
  {
   "cell_type": "code",
   "execution_count": 24,
   "metadata": {},
   "outputs": [
    {
     "name": "stdout",
     "output_type": "stream",
     "text": [
      "2.0\n",
      "POLYGON ((1.25 1.5, 1.5 1, 1 1, 1.25 1.5))\n",
      "True\n"
     ]
    }
   ],
   "source": [
    "from shapely.geometry import Polygon\n",
    "polygon1 = Polygon([(0,0), (2,0), (1,2)])\n",
    "polygon2 = Polygon([(1,1), (3,1), (2,3)])\n",
    "\n",
    "print(polygon1.area)\n",
    "intersection = polygon1.intersection(polygon2)\n",
    "intersects = polygon2.intersects(polygon2)\n",
    "print(intersection)\n",
    "print(intersects)\n"
   ]
  },
  {
   "cell_type": "markdown",
   "metadata": {},
   "source": [
    "### Exercise"
   ]
  },
  {
   "cell_type": "code",
   "execution_count": 2,
   "metadata": {},
   "outputs": [],
   "source": [
    "import fiona\n",
    "from shapely.geometry import Point, mapping"
   ]
  },
  {
   "cell_type": "code",
   "execution_count": 4,
   "metadata": {},
   "outputs": [],
   "source": [
    "import fiona\n",
    "from shapely.geometry import Point, mapping\n",
    "\n",
    "# Assuming the 'states' list contains state dictionaries as previously defined\n",
    "states = [\n",
    "    {'id': 1, 'name': 'Abia (Umuahia)', 'latitude': 5.532, 'longitude': 7.486},\n",
    "    {'id': 2, 'name': 'Adamawa (Yola)', 'latitude': 9.2035, 'longitude': 12.4954},\n",
    "    {'id': 3, 'name': 'Akwa Ibom (Uyo)', 'latitude': 5.0413, 'longitude': 7.9199}\n",
    "]\n",
    "\n",
    "# Define the schema for the shapefile\n",
    "schema = {\n",
    "    'geometry': 'Point',\n",
    "    'properties': {\n",
    "        'id': 'int',\n",
    "        'name': 'str',\n",
    "        'latitude': 'float',\n",
    "        'longitude': 'float'\n",
    "    }\n",
    "}\n",
    "\n",
    "# Open the shapefile for writing\n",
    "with fiona.open('./state_A.shp', 'w', driver='ESRI Shapefile', schema=schema) as shp:\n",
    "    for state in states:\n",
    "        shp.write({\n",
    "            'geometry': mapping(Point(state['longitude'], state['latitude'])),\n",
    "            'properties': {\n",
    "                'id': state['id'],\n",
    "                'name': state['name'],\n",
    "                'latitude': state['latitude'],\n",
    "                'longitude': state['longitude']\n",
    "            }\n",
    "        })\n"
   ]
  }
 ],
 "metadata": {
  "kernelspec": {
   "display_name": "geo_python",
   "language": "python",
   "name": "python3"
  },
  "language_info": {
   "codemirror_mode": {
    "name": "ipython",
    "version": 3
   },
   "file_extension": ".py",
   "mimetype": "text/x-python",
   "name": "python",
   "nbconvert_exporter": "python",
   "pygments_lexer": "ipython3",
   "version": "3.12.7"
  }
 },
 "nbformat": 4,
 "nbformat_minor": 2
}
