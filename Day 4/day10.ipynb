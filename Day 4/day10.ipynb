{
 "cells": [
  {
   "cell_type": "markdown",
   "metadata": {},
   "source": [
    "### Raster Analysis with Python"
   ]
  },
  {
   "cell_type": "markdown",
   "metadata": {
    "vscode": {
     "languageId": "plaintext"
    }
   },
   "source": [
    "### (Mosaicking and Spectral Indices)"
   ]
  },
  {
   "cell_type": "code",
   "execution_count": 7,
   "metadata": {},
   "outputs": [],
   "source": [
    "import os\n",
    "import rasterio as rio\n",
    "from rasterio.merge import merge as r_merge"
   ]
  },
  {
   "cell_type": "code",
   "execution_count": 8,
   "metadata": {},
   "outputs": [],
   "source": [
    "image_dir = r'.\\images\\result'\n",
    "files = [item for item in os.listdir(image_dir) if item.endswith('.tif')]\n",
    "\n",
    "files\n",
    "\n",
    "#perform mosaic\n",
    "src_files = [rio.open(os.path.join(image_dir, file)) for file in files]\n",
    "meta_data = src_files[0].meta.copy()\n",
    "\n",
    "mosaic, out_transform = r_merge(src_files)\n",
    "\n",
    "meta_data.update({\n",
    "    \"driver\": 'GTIFF',\n",
    "    \"transform\": out_transform,\n",
    "    \"height\": mosaic.shape[1],\n",
    "    \"width\": mosaic.shape[2]\n",
    "})\n",
    "\n",
    "output_dir = r'.\\output'\n",
    "os.makedirs(output_dir, exist_ok=True)\n",
    "\n",
    "merged_file = os.path.join(output_dir, \"merged.tif\")\n",
    "\n",
    "with rio.open(merged_file, \"w\", **meta_data) as dst:\n",
    "    dst.write(mosaic)\n",
    "\n"
   ]
  },
  {
   "cell_type": "markdown",
   "metadata": {},
   "source": [
    "### Spectral Indices"
   ]
  },
  {
   "cell_type": "code",
   "execution_count": 9,
   "metadata": {},
   "outputs": [],
   "source": [
    "import geopandas as gpd\n",
    "from rasterio.mask import mask as r_mask"
   ]
  },
  {
   "cell_type": "code",
   "execution_count": 10,
   "metadata": {},
   "outputs": [],
   "source": [
    "def simplify_names(path):\n",
    "    items = os.listdir(path)\n",
    "    return [item for item in items if item.endswith('.TIF')]\n",
    "\n",
    "\n",
    "\n",
    "\n",
    "def crop_raster_to_shapefile(input_raster, input_shapefile, output_raster):\n",
    "\n",
    "   with rio.open(input_raster) as src:\n",
    "        \n",
    "       # read the shapefile with geopandas\n",
    "        gdf = gpd.read_file(input_shapefile)\n",
    "\n",
    "        out_meta = src.meta.copy()\n",
    "\n",
    "\n",
    "        cropped_image, cropped_image_transform = r_mask(src, gdf.geometry, crop=True)\n",
    "\n",
    "        \n",
    "        # print(cropped_image)\n",
    "\n",
    "        # print(out_meta)\n",
    "\n",
    "        out_meta.update({\n",
    "            'driver': 'GTiff',\n",
    "            'height': cropped_image.shape[1],\n",
    "            'width': cropped_image.shape[2],\n",
    "            'transform': cropped_image_transform,\n",
    "            'nodata': 0,\n",
    "             \n",
    "        })\n",
    "\n",
    "        with rio.open(output_raster,  'w', **out_meta) as dst:\n",
    "            dst.write(cropped_image)\n",
    "\n",
    "\n",
    "\n",
    "      \n"
   ]
  },
  {
   "cell_type": "code",
   "execution_count": 11,
   "metadata": {},
   "outputs": [
    {
     "name": "stdout",
     "output_type": "stream",
     "text": [
      "['Band1.TIF', 'Band2.TIF', 'Band3.TIF', 'Band4.TIF', 'Band5.TIF', 'Band6.TIF', 'Band7.TIF']\n",
      ">>>>> Processed: .\\images\\cropped\\Band1.TIF\n",
      ">>>>> Processed: .\\images\\cropped\\Band2.TIF\n",
      ">>>>> Processed: .\\images\\cropped\\Band3.TIF\n",
      ">>>>> Processed: .\\images\\cropped\\Band4.TIF\n",
      ">>>>> Processed: .\\images\\cropped\\Band5.TIF\n",
      ">>>>> Processed: .\\images\\cropped\\Band6.TIF\n",
      ">>>>> Processed: .\\images\\cropped\\Band7.TIF\n"
     ]
    }
   ],
   "source": [
    "import os\n",
    "images_folders = r'.\\images\\rasters'\n",
    "cropped_folders = r'.\\images\\cropped'\n",
    "roi_path = r'.\\shp\\roi_3.shp'\n",
    "\n",
    "os.makedirs(cropped_folders, exist_ok=True)\n",
    "\n",
    "for image in simplify_names(images_folders):\n",
    "    input_raster = os.path.join(images_folders, image)\n",
    "    output_raster = os.path.join(cropped_folders, image)\n",
    "\n",
    "\n",
    "    crop_raster_to_shapefile(input_raster, roi_path, output_raster)\n",
    "    print(f'>>>>> Processed: {output_raster}')"
   ]
  },
  {
   "cell_type": "markdown",
   "metadata": {},
   "source": [
    "### NDVI"
   ]
  },
  {
   "cell_type": "markdown",
   "metadata": {},
   "source": [
    "NDVI = ((NIR - Red)/ (NIR + Red))"
   ]
  },
  {
   "cell_type": "code",
   "execution_count": 13,
   "metadata": {},
   "outputs": [
    {
     "name": "stderr",
     "output_type": "stream",
     "text": [
      "<>:1: SyntaxWarning: invalid escape sequence '\\i'\n",
      "<>:2: SyntaxWarning: invalid escape sequence '\\i'\n",
      "<>:3: SyntaxWarning: invalid escape sequence '\\i'\n",
      "<>:4: SyntaxWarning: invalid escape sequence '\\i'\n",
      "<>:5: SyntaxWarning: invalid escape sequence '\\i'\n",
      "<>:6: SyntaxWarning: invalid escape sequence '\\i'\n",
      "<>:7: SyntaxWarning: invalid escape sequence '\\i'\n",
      "<>:1: SyntaxWarning: invalid escape sequence '\\i'\n",
      "<>:2: SyntaxWarning: invalid escape sequence '\\i'\n",
      "<>:3: SyntaxWarning: invalid escape sequence '\\i'\n",
      "<>:4: SyntaxWarning: invalid escape sequence '\\i'\n",
      "<>:5: SyntaxWarning: invalid escape sequence '\\i'\n",
      "<>:6: SyntaxWarning: invalid escape sequence '\\i'\n",
      "<>:7: SyntaxWarning: invalid escape sequence '\\i'\n",
      "C:\\Users\\Owner\\AppData\\Local\\Temp\\ipykernel_6532\\491331600.py:1: SyntaxWarning: invalid escape sequence '\\i'\n",
      "  band1 = rio.open('.\\images\\cropped\\Band1.TIF')\n",
      "C:\\Users\\Owner\\AppData\\Local\\Temp\\ipykernel_6532\\491331600.py:2: SyntaxWarning: invalid escape sequence '\\i'\n",
      "  band2 = rio.open('.\\images\\cropped\\Band2.TIF')\n",
      "C:\\Users\\Owner\\AppData\\Local\\Temp\\ipykernel_6532\\491331600.py:3: SyntaxWarning: invalid escape sequence '\\i'\n",
      "  band3 = rio.open('.\\images\\cropped\\Band3.TIF')\n",
      "C:\\Users\\Owner\\AppData\\Local\\Temp\\ipykernel_6532\\491331600.py:4: SyntaxWarning: invalid escape sequence '\\i'\n",
      "  band4 = rio.open('.\\images\\cropped\\Band4.TIF')\n",
      "C:\\Users\\Owner\\AppData\\Local\\Temp\\ipykernel_6532\\491331600.py:5: SyntaxWarning: invalid escape sequence '\\i'\n",
      "  band5 = rio.open('.\\images\\cropped\\Band5.TIF')\n",
      "C:\\Users\\Owner\\AppData\\Local\\Temp\\ipykernel_6532\\491331600.py:6: SyntaxWarning: invalid escape sequence '\\i'\n",
      "  band6 = rio.open('.\\images\\cropped\\Band6.TIF')\n",
      "C:\\Users\\Owner\\AppData\\Local\\Temp\\ipykernel_6532\\491331600.py:7: SyntaxWarning: invalid escape sequence '\\i'\n",
      "  band7 =rio.open('.\\images\\cropped\\Band7.TIF')\n"
     ]
    }
   ],
   "source": [
    "band1 = rio.open('.\\images\\cropped\\Band1.TIF')\n",
    "band2 = rio.open('.\\images\\cropped\\Band2.TIF')\n",
    "band3 = rio.open('.\\images\\cropped\\Band3.TIF')\n",
    "band4 = rio.open('.\\images\\cropped\\Band4.TIF')\n",
    "band5 = rio.open('.\\images\\cropped\\Band5.TIF')\n",
    "band6 = rio.open('.\\images\\cropped\\Band6.TIF')\n",
    "band7 =rio.open('.\\images\\cropped\\Band7.TIF')"
   ]
  },
  {
   "cell_type": "code",
   "execution_count": 14,
   "metadata": {},
   "outputs": [],
   "source": [
    "# Read all the bands and convert them to float(64bit) type\n",
    "aerosol_band = band1.read(1).astype(\"float64\")\n",
    "blue_band = band2.read(1).astype(\"float64\")\n",
    "green_band = band3.read(1).astype(\"float64\")\n",
    "red_band = band4.read(1).astype(\"float64\")\n",
    "nir_band = band5.read(1).astype(\"float64\")\n",
    "swir_1_band = band6.read(1).astype(\"float64\")\n",
    "swir_2_band = band7.read(1).astype(\"float64\")\n"
   ]
  },
  {
   "cell_type": "code",
   "execution_count": 15,
   "metadata": {},
   "outputs": [
    {
     "name": "stderr",
     "output_type": "stream",
     "text": [
      "C:\\Users\\Owner\\AppData\\Local\\Temp\\ipykernel_6532\\3184137583.py:1: RuntimeWarning: invalid value encountered in divide\n",
      "  ndvi = ((nir_band - red_band)/ (nir_band + red_band))\n"
     ]
    }
   ],
   "source": [
    "ndvi = ((nir_band - red_band)/ (nir_band + red_band))\n",
    "\n",
    "# save generated ndvi\n",
    "meta = band1.meta.copy()\n",
    "\n",
    "meta.update({\n",
    "    \"count\": 1,\n",
    "    \"dtype\": \"float64\"\n",
    "})\n",
    "\n",
    "spectral_indices_folder = './indices'\n",
    "os.makedirs(spectral_indices_folder, exist_ok=True)\n",
    "\n",
    "ndvi_file = os.path.join(spectral_indices_folder, \"ndvi.tif\")\n",
    "\n",
    "with rio.open(ndvi_file, \"w\", **meta) as dst:\n",
    "    dst.write(ndvi, 1)\n"
   ]
  },
  {
   "cell_type": "markdown",
   "metadata": {},
   "source": [
    "### Calculating ndwi"
   ]
  },
  {
   "cell_type": "markdown",
   "metadata": {},
   "source": [
    "NDWI = (Green - NIR)/(Green + NIR)"
   ]
  },
  {
   "cell_type": "code",
   "execution_count": 19,
   "metadata": {},
   "outputs": [
    {
     "name": "stderr",
     "output_type": "stream",
     "text": [
      "C:\\Users\\Owner\\AppData\\Local\\Temp\\ipykernel_6532\\1346042861.py:4: RuntimeWarning: invalid value encountered in divide\n",
      "  ((green_band - nir_band)/ (green_band + nir_band)))\n"
     ]
    }
   ],
   "source": [
    "import numpy as np\n",
    "ndwi = np.where(\n",
    "    (green_band + nir_band) == 0, 0,\n",
    "    ((green_band - nir_band)/ (green_band + nir_band)))\n",
    "\n",
    "\n",
    "\n",
    "# save generated ndvi\n",
    "meta = band1.meta.copy()\n",
    "\n",
    "meta.update({\n",
    "    \"count\": 1,\n",
    "    \"dtype\": \"float64\"\n",
    "})\n",
    "\n",
    "spectral_indices_folder = './indices'\n",
    "os.makedirs(spectral_indices_folder, exist_ok=True)\n",
    "\n",
    "ndwi_file = os.path.join(spectral_indices_folder, \"ndwi.tif\")\n",
    "\n",
    "with rio.open(ndwi_file, \"w\", **meta) as dst:\n",
    "    dst.write(ndwi, 1)"
   ]
  },
  {
   "cell_type": "markdown",
   "metadata": {},
   "source": [
    "### Calculating NDBI"
   ]
  },
  {
   "cell_type": "markdown",
   "metadata": {},
   "source": [
    "NDBI = (SWIR - NIR)/(SWIR + NIR)"
   ]
  },
  {
   "cell_type": "code",
   "execution_count": 20,
   "metadata": {},
   "outputs": [
    {
     "name": "stderr",
     "output_type": "stream",
     "text": [
      "C:\\Users\\Owner\\AppData\\Local\\Temp\\ipykernel_6532\\427273684.py:4: RuntimeWarning: invalid value encountered in divide\n",
      "  ((swir_1_band - nir_band)/ (swir_1_band + nir_band)))\n"
     ]
    }
   ],
   "source": [
    "import numpy as np\n",
    "ndbi = np.where(\n",
    "    (swir_1_band + nir_band) == 0, 0,\n",
    "    ((swir_1_band - nir_band)/ (swir_1_band + nir_band)))\n",
    "\n",
    "\n",
    "\n",
    "# save generated ndvi\n",
    "meta = band1.meta.copy()\n",
    "\n",
    "meta.update({\n",
    "    \"count\": 1,\n",
    "    \"dtype\": \"float64\"\n",
    "})\n",
    "\n",
    "spectral_indices_folder = './indices'\n",
    "os.makedirs(spectral_indices_folder, exist_ok=True)\n",
    "\n",
    "ndbi_file = os.path.join(spectral_indices_folder, \"ndbi.tif\")\n",
    "\n",
    "with rio.open(ndbi_file, \"w\", **meta) as dst:\n",
    "    dst.write(ndbi, 1)"
   ]
  },
  {
   "cell_type": "markdown",
   "metadata": {},
   "source": [
    "### CALCULATING BAI"
   ]
  },
  {
   "cell_type": "markdown",
   "metadata": {},
   "source": [
    "### BAI = 1/((0.1 - RED) ^ 2 + (0.06 - NIR) ^2)"
   ]
  }
 ],
 "metadata": {
  "kernelspec": {
   "display_name": "geo_python",
   "language": "python",
   "name": "python3"
  },
  "language_info": {
   "codemirror_mode": {
    "name": "ipython",
    "version": 3
   },
   "file_extension": ".py",
   "mimetype": "text/x-python",
   "name": "python",
   "nbconvert_exporter": "python",
   "pygments_lexer": "ipython3",
   "version": "3.12.7"
  }
 },
 "nbformat": 4,
 "nbformat_minor": 2
}
